{
 "cells": [
  {
   "cell_type": "code",
   "execution_count": 1,
   "metadata": {},
   "outputs": [],
   "source": [
    "import requests as rq\n",
    "from bs4 import BeautifulSoup\n",
    "import pandas as pd"
   ]
  },
  {
   "cell_type": "code",
   "execution_count": 2,
   "metadata": {},
   "outputs": [],
   "source": [
    "list_url = 'https://icobench.com/ieo'\n",
    "data_with_list = rq.get(list_url)\n",
    "list_soup = BeautifulSoup(data_with_list.text)"
   ]
  },
  {
   "cell_type": "code",
   "execution_count": 4,
   "metadata": {},
   "outputs": [
    {
     "name": "stdout",
     "output_type": "stream",
     "text": [
      "294\n"
     ]
    }
   ],
   "source": [
    "# Expected number of companies\n",
    "companies = list_soup.findAll('a', {'class': 'name notranslate'})\n",
    "print(len(companies))"
   ]
  },
  {
   "cell_type": "code",
   "execution_count": 5,
   "metadata": {},
   "outputs": [],
   "source": [
    "# Function for processing contacts data\n",
    "def get_data(t):\n",
    "    soup = BeautifulSoup(t)\n",
    "    data = soup.findAll('a', {'class': ['www', 'twitter', 'facebook', 'telegram']})\n",
    "    res = {}\n",
    "    for tag in data:\n",
    "        if isinstance(tag.contents, list) and len(tag.contents) == 1 and \\\n",
    "            isinstance(tag.contents[0], str) and \\\n",
    "            tag.contents[0].strip() in ('Twitter', 'Facebook', 'Telegram', 'WWW'):\n",
    "            res[tag['class'][0].strip()] = tag['href']\n",
    "    return res"
   ]
  },
  {
   "cell_type": "code",
   "execution_count": 6,
   "metadata": {},
   "outputs": [
    {
     "name": "stdout",
     "output_type": "stream",
     "text": [
      "10 companies have been processed\n",
      "20 companies have been processed\n",
      "30 companies have been processed\n",
      "40 companies have been processed\n",
      "50 companies have been processed\n",
      "60 companies have been processed\n",
      "70 companies have been processed\n",
      "80 companies have been processed\n",
      "90 companies have been processed\n",
      "100 companies have been processed\n",
      "110 companies have been processed\n",
      "120 companies have been processed\n",
      "130 companies have been processed\n",
      "140 companies have been processed\n",
      "150 companies have been processed\n",
      "160 companies have been processed\n",
      "170 companies have been processed\n",
      "180 companies have been processed\n",
      "190 companies have been processed\n",
      "200 companies have been processed\n",
      "210 companies have been processed\n",
      "220 companies have been processed\n",
      "230 companies have been processed\n",
      "240 companies have been processed\n",
      "250 companies have been processed\n",
      "260 companies have been processed\n",
      "270 companies have been processed\n",
      "280 companies have been processed\n",
      "290 companies have been processed\n",
      "All 294 companies have been processed\n"
     ]
    }
   ],
   "source": [
    "# A cycle, that downloads the needed information\n",
    "data = []\n",
    "cnt = 0\n",
    "for company_tag in companies:\n",
    "    company_url = 'https://icobench.com' + company_tag['href']\n",
    "    t = rq.get(company_url).text\n",
    "    dct = get_data(t)\n",
    "    dct['name'] = company_tag.contents[0].strip()\n",
    "    data.append(dct)\n",
    "    cnt += 1\n",
    "    if cnt % 10 == 0:\n",
    "        print(f'{cnt} companies have been processed')\n",
    "print(f'All {cnt} companies have been processed')"
   ]
  },
  {
   "cell_type": "code",
   "execution_count": 7,
   "metadata": {},
   "outputs": [],
   "source": [
    "# Transform data to a pandas dataframe\n",
    "columns = ('name', 'www', 'facebook', 'telegram', 'twitter')\n",
    "df = pd.DataFrame(data, columns=columns).fillna('').rename(columns={'www': 'website'})"
   ]
  },
  {
   "cell_type": "code",
   "execution_count": 8,
   "metadata": {},
   "outputs": [
    {
     "data": {
      "text/html": [
       "<div>\n",
       "<style scoped>\n",
       "    .dataframe tbody tr th:only-of-type {\n",
       "        vertical-align: middle;\n",
       "    }\n",
       "\n",
       "    .dataframe tbody tr th {\n",
       "        vertical-align: top;\n",
       "    }\n",
       "\n",
       "    .dataframe thead th {\n",
       "        text-align: right;\n",
       "    }\n",
       "</style>\n",
       "<table border=\"1\" class=\"dataframe\">\n",
       "  <thead>\n",
       "    <tr style=\"text-align: right;\">\n",
       "      <th></th>\n",
       "      <th>name</th>\n",
       "      <th>website</th>\n",
       "      <th>facebook</th>\n",
       "      <th>telegram</th>\n",
       "      <th>twitter</th>\n",
       "    </tr>\n",
       "  </thead>\n",
       "  <tbody>\n",
       "    <tr>\n",
       "      <th>0</th>\n",
       "      <td>BITFINEX</td>\n",
       "      <td>https://www.bitfinex.com/?utm_source=icobench</td>\n",
       "      <td>https://www.facebook.com/bitfinex</td>\n",
       "      <td>https://t.me/bfxtelegram</td>\n",
       "      <td>https://twitter.com/bitfinex</td>\n",
       "    </tr>\n",
       "    <tr>\n",
       "      <th>1</th>\n",
       "      <td>Tron Game Global</td>\n",
       "      <td>https://trongameglobal.network/?utm_source=ico...</td>\n",
       "      <td>https://www.facebook.com/Tron-Game-Global-3587...</td>\n",
       "      <td>https://t.me/TronGameGlobalOfficial</td>\n",
       "      <td>https://twitter.com/TronGameGlobal1</td>\n",
       "    </tr>\n",
       "    <tr>\n",
       "      <th>2</th>\n",
       "      <td>Perlin</td>\n",
       "      <td>https://www.perlin.net/?utm_source=icobench</td>\n",
       "      <td>https://facebook.com/perlin.network/</td>\n",
       "      <td>https://t.me/perlinnetworkchat</td>\n",
       "      <td>https://twitter.com/PerlinNetwork</td>\n",
       "    </tr>\n",
       "    <tr>\n",
       "      <th>3</th>\n",
       "      <td>Percival</td>\n",
       "      <td>https://percivaltoken.com/?utm_source=icobench</td>\n",
       "      <td></td>\n",
       "      <td>https://t.me/Percival_Token</td>\n",
       "      <td>https://twitter.com/percivalxpv</td>\n",
       "    </tr>\n",
       "    <tr>\n",
       "      <th>4</th>\n",
       "      <td>Bread</td>\n",
       "      <td>https://token.breadapp.com/en/?utm_source=icob...</td>\n",
       "      <td>https://www.facebook.com/breadapp/</td>\n",
       "      <td>https://t.me/joinchat/HclhZw3y3wyfPchdgyTOcg</td>\n",
       "      <td>https://twitter.com/breadapp</td>\n",
       "    </tr>\n",
       "    <tr>\n",
       "      <th>5</th>\n",
       "      <td>SocialGood</td>\n",
       "      <td>https://socialgood-foundation.com/?utm_source=...</td>\n",
       "      <td>https://www.facebook.com/SoichiroTakaoka</td>\n",
       "      <td>https://t.me/Socialgood_io</td>\n",
       "      <td>https://twitter.com/soichirotakaoka</td>\n",
       "    </tr>\n",
       "    <tr>\n",
       "      <th>6</th>\n",
       "      <td>CharS</td>\n",
       "      <td>http://www.charsproject.com?utm_source=icobench</td>\n",
       "      <td></td>\n",
       "      <td>https://t.me/chars_project_global</td>\n",
       "      <td>https://twitter.com/CharSproject</td>\n",
       "    </tr>\n",
       "    <tr>\n",
       "      <th>7</th>\n",
       "      <td>GIFTO</td>\n",
       "      <td>https://gifto.io/?utm_source=icobench</td>\n",
       "      <td>https://www.facebook.com/gifto.io/</td>\n",
       "      <td>https://t.me/giftoOfficial</td>\n",
       "      <td>https://twitter.com/GIFTO_io</td>\n",
       "    </tr>\n",
       "    <tr>\n",
       "      <th>8</th>\n",
       "      <td>Windhan Energy</td>\n",
       "      <td>https://windhanenergy.io/?utm_source=icobench</td>\n",
       "      <td>https://www.facebook.com/windhanenergy/</td>\n",
       "      <td>https://t.me/windhanenergyico</td>\n",
       "      <td>https://twitter.com/EnergyWindhan</td>\n",
       "    </tr>\n",
       "    <tr>\n",
       "      <th>9</th>\n",
       "      <td>ioeX</td>\n",
       "      <td>https://www.ioex.co/?utm_source=icobench</td>\n",
       "      <td>https://www.facebook.com/IOEXnetwork-195925017...</td>\n",
       "      <td>https://t.me/ioeXnetwork_EN</td>\n",
       "      <td>https://twitter.com/ioexnetwork</td>\n",
       "    </tr>\n",
       "  </tbody>\n",
       "</table>\n",
       "</div>"
      ],
      "text/plain": [
       "               name                                            website  \\\n",
       "0          BITFINEX      https://www.bitfinex.com/?utm_source=icobench   \n",
       "1  Tron Game Global  https://trongameglobal.network/?utm_source=ico...   \n",
       "2            Perlin        https://www.perlin.net/?utm_source=icobench   \n",
       "3          Percival     https://percivaltoken.com/?utm_source=icobench   \n",
       "4             Bread  https://token.breadapp.com/en/?utm_source=icob...   \n",
       "5        SocialGood  https://socialgood-foundation.com/?utm_source=...   \n",
       "6             CharS    http://www.charsproject.com?utm_source=icobench   \n",
       "7             GIFTO              https://gifto.io/?utm_source=icobench   \n",
       "8    Windhan Energy      https://windhanenergy.io/?utm_source=icobench   \n",
       "9              ioeX           https://www.ioex.co/?utm_source=icobench   \n",
       "\n",
       "                                            facebook  \\\n",
       "0                  https://www.facebook.com/bitfinex   \n",
       "1  https://www.facebook.com/Tron-Game-Global-3587...   \n",
       "2               https://facebook.com/perlin.network/   \n",
       "3                                                      \n",
       "4                 https://www.facebook.com/breadapp/   \n",
       "5           https://www.facebook.com/SoichiroTakaoka   \n",
       "6                                                      \n",
       "7                 https://www.facebook.com/gifto.io/   \n",
       "8            https://www.facebook.com/windhanenergy/   \n",
       "9  https://www.facebook.com/IOEXnetwork-195925017...   \n",
       "\n",
       "                                       telegram  \\\n",
       "0                      https://t.me/bfxtelegram   \n",
       "1           https://t.me/TronGameGlobalOfficial   \n",
       "2                https://t.me/perlinnetworkchat   \n",
       "3                   https://t.me/Percival_Token   \n",
       "4  https://t.me/joinchat/HclhZw3y3wyfPchdgyTOcg   \n",
       "5                    https://t.me/Socialgood_io   \n",
       "6             https://t.me/chars_project_global   \n",
       "7                    https://t.me/giftoOfficial   \n",
       "8                 https://t.me/windhanenergyico   \n",
       "9                   https://t.me/ioeXnetwork_EN   \n",
       "\n",
       "                               twitter  \n",
       "0         https://twitter.com/bitfinex  \n",
       "1  https://twitter.com/TronGameGlobal1  \n",
       "2    https://twitter.com/PerlinNetwork  \n",
       "3      https://twitter.com/percivalxpv  \n",
       "4         https://twitter.com/breadapp  \n",
       "5  https://twitter.com/soichirotakaoka  \n",
       "6     https://twitter.com/CharSproject  \n",
       "7         https://twitter.com/GIFTO_io  \n",
       "8    https://twitter.com/EnergyWindhan  \n",
       "9      https://twitter.com/ioexnetwork  "
      ]
     },
     "execution_count": 8,
     "metadata": {},
     "output_type": "execute_result"
    }
   ],
   "source": [
    "df.head(10)"
   ]
  },
  {
   "cell_type": "code",
   "execution_count": 10,
   "metadata": {},
   "outputs": [],
   "source": [
    "# Output the results in a csv-file, if you want to\n",
    "# ; separator for excel\n",
    "df.to_csv('companies.csv', sep=';')"
   ]
  },
  {
   "cell_type": "code",
   "execution_count": null,
   "metadata": {},
   "outputs": [],
   "source": []
  }
 ],
 "metadata": {
  "kernelspec": {
   "display_name": "Python 3",
   "language": "python",
   "name": "python3"
  },
  "language_info": {
   "codemirror_mode": {
    "name": "ipython",
    "version": 3
   },
   "file_extension": ".py",
   "mimetype": "text/x-python",
   "name": "python",
   "nbconvert_exporter": "python",
   "pygments_lexer": "ipython3",
   "version": "3.7.5"
  }
 },
 "nbformat": 4,
 "nbformat_minor": 2
}
